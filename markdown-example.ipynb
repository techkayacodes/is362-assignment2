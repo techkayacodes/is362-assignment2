{
  "metadata": {
    "kernelspec": {
      "name": "python",
      "display_name": "Python (Pyodide)",
      "language": "python"
    },
    "language_info": {
      "codemirror_mode": {
        "name": "python",
        "version": 3
      },
      "file_extension": ".py",
      "mimetype": "text/x-python",
      "name": "python",
      "nbconvert_exporter": "python",
      "pygments_lexer": "ipython3",
      "version": "3.8"
    }
  },
  "nbformat_minor": 4,
  "nbformat": 4,
  "cells": [
    {
      "cell_type": "code",
      "source": "# Introduction to Set Comprehensions in Python\n\n# Sets in Python are collections of unique elements. Set comprehensions provide a concise way to create sets.\n# The syntax for set comprehension is similar to list comprehensions, but sets do not allow duplicate elements.\n\n# Syntax of Set Comprehensions:\n# {expression for item in iterable if condition}\n\n# Example 1: Creating a set of squares\nsquares = {x**2 for x in range(10)}\nprint(\"Squares:\", squares)\n\n# Unlike lists, sets do not retain order and will remove duplicate values.\n# This makes set comprehensions particularly useful for creating collections of unique items.\n\n# Example 2: Using a condition within a set comprehension\neven_squares = {x**2 for x in range(10) if x % 2 == 0}\nprint(\"Even Squares:\", even_squares)\n\n# Using the zip() Function in Set Comprehensions\n\n# The zip() function is used to combine two or more iterables (like lists or tuples).\n# When used with set comprehensions, zip() can create sets based on elements from multiple iterables.\n\n# Example 3: Combining elements from two lists without duplicates\nlist1 = [1, 2, 3, 4, 5]\nlist2 = [5, 6, 7, 8, 9]\n\ncombined_set = {a + b for a, b in zip(list1, list2)}\nprint(\"Combined Set:\", combined_set)\n\n# This example demonstrates combining elements from two lists using zip() and adding them,\n# while ensuring the resulting set contains unique elements.\n\n# Conclusion:\n# Set comprehensions are a powerful feature in Python that allows for concise and efficient set creation.\n# When combined with functions like zip(), set comprehensions become even more versatile,\n# enabling complex data manipulations with minimal code.\n",
      "metadata": {
        "trusted": true
      },
      "outputs": [],
      "execution_count": null
    }
  ]
}